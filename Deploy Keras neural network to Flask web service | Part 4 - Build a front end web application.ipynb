{
 "cells": [
  {
   "cell_type": "markdown",
   "metadata": {},
   "source": [
    "# Build a front end web application "
   ]
  },
  {
   "cell_type": "markdown",
   "metadata": {},
   "source": [
    "----\n",
    "_Create a Web Application using the Flask._\n",
    "\n",
    "* Here we creating a HTML Web page with json support. \n",
    "* part 3 is also using to run this Web application\n",
    "---\n"
   ]
  },
  {
   "cell_type": "code",
   "execution_count": null,
   "metadata": {},
   "outputs": [],
   "source": [
    "<!DOCTYPE html>\n",
    "<html>\n",
    "<head>\n",
    "    <title>Greeting App</title>\n",
    "    <style>\n",
    "        *{\n",
    "            font-size:30px;\n",
    "        }\n",
    "    </style>\n",
    "</head>\n",
    "<body>\n",
    "    <input id=\"name-input\" type=\"text\"/>\n",
    "    <button id=\"name-button\">Submit Name</button>\n",
    "    <p id=\"greeting\"></p>\n",
    "    \n",
    "    <script src=\"https://code.jquery.com/jquery-3.3.1.min.js\"></script>\n",
    "    <script>\n",
    "    $(\"#name-button\").click(function(event){\n",
    "        let message = {\n",
    "            name: $(\"#name-input\").val()\n",
    "        }\n",
    "        $.post(\"http://0.0.0.0:5000/hello\", JSON.stringify(message), function(response){\n",
    "               $(\"#greeting\").text(response.greeting);\n",
    "        console.log(response);\n",
    "               });\n",
    "        });\n",
    "    </script>\n",
    "</body>\n",
    "</html> "
   ]
  },
  {
   "cell_type": "markdown",
   "metadata": {},
   "source": [
    "---\n",
    "* Run in cmd: \n"
   ]
  },
  {
   "cell_type": "code",
   "execution_count": null,
   "metadata": {},
   "outputs": [],
   "source": [
    "http://0.0.0.0:5000/static/hello.html"
   ]
  }
 ],
 "metadata": {
  "kernelspec": {
   "display_name": "Python 3",
   "language": "python",
   "name": "python3"
  },
  "language_info": {
   "codemirror_mode": {
    "name": "ipython",
    "version": 3
   },
   "file_extension": ".py",
   "mimetype": "text/x-python",
   "name": "python",
   "nbconvert_exporter": "python",
   "pygments_lexer": "ipython3",
   "version": "3.6.9"
  }
 },
 "nbformat": 4,
 "nbformat_minor": 2
}
